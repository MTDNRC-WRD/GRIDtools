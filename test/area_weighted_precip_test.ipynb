{
 "cells": [
  {
   "cell_type": "code",
   "execution_count": 1,
   "metadata": {},
   "outputs": [],
   "source": [
    "import pynhd\n",
    "import geopandas as gpd\n",
    "from shapely.geometry import Point, Polygon\n",
    "import matplotlib.pyplot as plt\n",
    "import numpy as np\n",
    "import os\n",
    "from pathlib import Path\n",
    "from chmdata.thredds import GridMet, BBox"
   ]
  },
  {
   "cell_type": "code",
   "execution_count": 2,
   "metadata": {},
   "outputs": [],
   "source": [
    "wd_pth = Path(r'C:\\Users\\CNB968\\OneDrive - MT\\Github\\GRIDtools')\n",
    "os.chdir(wd_pth)"
   ]
  },
  {
   "cell_type": "code",
   "execution_count": 22,
   "metadata": {},
   "outputs": [],
   "source": [
    "def delineate_watershed(coords):\n",
    "    \"\"\"\n",
    "    Function that simplifies the work flow of pynhd split_catchment to delineate\n",
    "    a basin upstream of a list of coordinates.\n",
    "    \"\"\"\n",
    "    \n",
    "    trace_attrs = ['req_idx', 'gnis_name', 'comid', 'reachcode', 'intersection_point']\n",
    "    # add the required columns for pynhd trace_flow and split_catchment\n",
    "    coords['direction'] = ['up'] * coords.shape[0]\n",
    "    coords['upstream'] = [True] * coords.shape[0]\n",
    "    # use flow trace service to find nearest stream feature\n",
    "    trace = pynhd.pygeoapi(coords, \"flow_trace\")\n",
    "    # add index as column for merging attribute fields and retain all but the geometry\n",
    "    coords['req_idx'] = coords.index\n",
    "    orig_attrs = coords.columns[coords.columns != 'geometry']\n",
    "    # update point geometries to reflect hydro-adjusted points\n",
    "    coords.geometry = [Point(x) for x in trace['intersection_point']]\n",
    "    # delineate watersheds with adjusted points\n",
    "    watersheds = pynhd.pygeoapi(coords, \"split_catchment\")\n",
    "\n",
    "    # separate multi-part features and make valid\n",
    "    watersheds = watersheds.explode()\n",
    "    watersheds.geometry = watersheds.make_valid()\n",
    "    watersheds = watersheds.explode()\n",
    "    # remove the local catchment and keep only the full delineated area\n",
    "    watersheds['Area_sqKm'] = watersheds.to_crs('5071').area / (1000**2)\n",
    "    watersheds.sort_values(by='Area_sqKm', inplace=True)\n",
    "    watersheds.drop_duplicates(subset='req_idx', keep='last', inplace=True)\n",
    "    watersheds.reset_index(drop=True, inplace=True)\n",
    "\n",
    "    # construct final GeoDataFrame with relevant attributes\n",
    "    watersheds = watersheds.merge(coords[orig_attrs], on='req_idx')\n",
    "    watersheds = watersheds.merge(trace[trace_attrs], on='req_idx')\n",
    "\n",
    "    return watersheds\n",
    "    "
   ]
  },
  {
   "cell_type": "code",
   "execution_count": 23,
   "metadata": {},
   "outputs": [],
   "source": [
    "# Create geopandas.GeoDataFrame of some points we want to delineate upstream catchments for\n",
    "pour_pnt = gpd.GeoDataFrame(\n",
    "    {\n",
    "        \"name\": [\"Lolo_Catchment\", \"Bear_Creek_Catchment\"]\n",
    "    },\n",
    "    geometry=[Point(-114.133170, 46.748808),\n",
    "              Point(-114.324042, 46.766956)],\n",
    "    crs=4326\n",
    ")"
   ]
  },
  {
   "cell_type": "code",
   "execution_count": 24,
   "metadata": {},
   "outputs": [],
   "source": [
    "# Use delineate_watershed function to get polygon's of the contributing drainage area upstream of each point in GeoDataFrame\n",
    "result = delineate_watershed(pour_pnt)"
   ]
  },
  {
   "cell_type": "code",
   "execution_count": 28,
   "metadata": {},
   "outputs": [
    {
     "data": {
      "text/html": [
       "<div>\n",
       "<style scoped>\n",
       "    .dataframe tbody tr th:only-of-type {\n",
       "        vertical-align: middle;\n",
       "    }\n",
       "\n",
       "    .dataframe tbody tr th {\n",
       "        vertical-align: top;\n",
       "    }\n",
       "\n",
       "    .dataframe thead th {\n",
       "        text-align: right;\n",
       "    }\n",
       "</style>\n",
       "<table border=\"1\" class=\"dataframe\">\n",
       "  <thead>\n",
       "    <tr style=\"text-align: right;\">\n",
       "      <th></th>\n",
       "      <th>req_idx</th>\n",
       "      <th>catchmentID</th>\n",
       "      <th>geometry</th>\n",
       "      <th>Area_sqKm</th>\n",
       "      <th>name</th>\n",
       "      <th>direction</th>\n",
       "      <th>upstream</th>\n",
       "      <th>gnis_name</th>\n",
       "      <th>comid</th>\n",
       "      <th>reachcode</th>\n",
       "      <th>intersection_point</th>\n",
       "    </tr>\n",
       "  </thead>\n",
       "  <tbody>\n",
       "    <tr>\n",
       "      <th>0</th>\n",
       "      <td>1</td>\n",
       "      <td>NaN</td>\n",
       "      <td>POLYGON ((-114.3272 46.7703, -114.327 46.77098...</td>\n",
       "      <td>28.323318</td>\n",
       "      <td>Bear_Creek_Catchment</td>\n",
       "      <td>up</td>\n",
       "      <td>True</td>\n",
       "      <td>Bear Creek</td>\n",
       "      <td>24321310</td>\n",
       "      <td>17010205001011</td>\n",
       "      <td>[-114.32441916837779, 46.76677542470867]</td>\n",
       "    </tr>\n",
       "    <tr>\n",
       "      <th>1</th>\n",
       "      <td>0</td>\n",
       "      <td>NaN</td>\n",
       "      <td>POLYGON ((-114.14229 46.72534, -114.14578 46.7...</td>\n",
       "      <td>653.521298</td>\n",
       "      <td>Lolo_Catchment</td>\n",
       "      <td>up</td>\n",
       "      <td>True</td>\n",
       "      <td>Lolo Creek</td>\n",
       "      <td>24319270</td>\n",
       "      <td>17010205000088</td>\n",
       "      <td>[-114.12978466856701, 46.7476919565746]</td>\n",
       "    </tr>\n",
       "  </tbody>\n",
       "</table>\n",
       "</div>"
      ],
      "text/plain": [
       "   req_idx catchmentID                                           geometry  \\\n",
       "0        1         NaN  POLYGON ((-114.3272 46.7703, -114.327 46.77098...   \n",
       "1        0         NaN  POLYGON ((-114.14229 46.72534, -114.14578 46.7...   \n",
       "\n",
       "    Area_sqKm                  name direction  upstream   gnis_name     comid  \\\n",
       "0   28.323318  Bear_Creek_Catchment        up      True  Bear Creek  24321310   \n",
       "1  653.521298        Lolo_Catchment        up      True  Lolo Creek  24319270   \n",
       "\n",
       "        reachcode                        intersection_point  \n",
       "0  17010205001011  [-114.32441916837779, 46.76677542470867]  \n",
       "1  17010205000088   [-114.12978466856701, 46.7476919565746]  "
      ]
     },
     "execution_count": 28,
     "metadata": {},
     "output_type": "execute_result"
    }
   ],
   "source": [
    "# view table\n",
    "result"
   ]
  },
  {
   "cell_type": "code",
   "execution_count": 29,
   "metadata": {},
   "outputs": [
    {
     "data": {
      "text/plain": [
       "<Axes: >"
      ]
     },
     "execution_count": 29,
     "metadata": {},
     "output_type": "execute_result"
    },
    {
     "data": {
      "image/png": "[encoded data removed]",
      "text/plain": [
       "<Figure size 640x480 with 1 Axes>"
      ]
     },
     "metadata": {},
     "output_type": "display_data"
    }
   ],
   "source": [
    "# plot watershed boundaries\n",
    "result.boundary.plot()"
   ]
  },
  {
   "cell_type": "code",
   "execution_count": 30,
   "metadata": {},
   "outputs": [],
   "source": [
    "# Use chmdata to get GridMET precipitation data for the area of interest\n",
    "# Create the bbox\n",
    "bnds = result.total_bounds\n",
    "bbox = BBox(bnds[0]-0.5, bnds[2]+0.5, bnds[3]+0.5, bnds[1]-0.5)\n",
    "gmet = GridMet(variable='pr', start='2016-01-01', end='2024-12-01', bbox=bbox)\n",
    "prcp = gmet.subset_nc(return_array=True)"
   ]
  },
  {
   "cell_type": "code",
   "execution_count": 31,
   "metadata": {},
   "outputs": [
    {
     "data": {
      "text/plain": [
       "<matplotlib.colorbar.Colorbar at 0x201f38012b0>"
      ]
     },
     "execution_count": 31,
     "metadata": {},
     "output_type": "execute_result"
    },
    {
     "data": {
      "image/png": "[encoded data removed]",
      "text/plain": [
       "<Figure size 640x480 with 2 Axes>"
      ]
     },
     "metadata": {},
     "output_type": "display_data"
    }
   ],
   "source": [
    "# view cumulative precip over the time period\n",
    "plt.imshow(prcp.precipitation_amount.sum(dim='time'))\n",
    "plt.colorbar()"
   ]
  },
  {
   "cell_type": "code",
   "execution_count": 32,
   "metadata": {},
   "outputs": [],
   "source": [
    "dataset = prcp.precipitation_amount\n",
    "# get grid resolution\n",
    "xres, yres = dataset.rio.resolution()\n",
    "\n",
    "# get the array bounds as variables for new geometry\n",
    "gminx, gminy, gmaxx, gmaxy = dataset.rio.bounds()\n",
    "# shape of dataset\n",
    "nrows = dataset.shape[1]\n",
    "ncols = dataset.shape[2]\n",
    "\n",
    "nshp_cols = list(np.linspace(gminx, gmaxx, ncols+1))\n",
    "nshp_rows = np.linspace(gminy, gmaxy, nrows+1)\n",
    "nshp_rows = np.flip(nshp_rows)\n",
    "\n",
    "grid_polygons = []\n",
    "for y in nshp_rows[:-1]:\n",
    "    for x in nshp_cols[:-1]:\n",
    "        grid_polygons.append(Polygon([(x,y), (x+xres,y), (x+xres, y+yres), (x, y+yres)]))"
   ]
  },
  {
   "cell_type": "code",
   "execution_count": 49,
   "metadata": {},
   "outputs": [],
   "source": [
    "grd_shp = gpd.GeoDataFrame(geometry=grid_polygons, crs=4326)"
   ]
  },
  {
   "cell_type": "code",
   "execution_count": null,
   "metadata": {},
   "outputs": [],
   "source": [
    "r_proj = result.to_crs(5071)\n",
    "grd_proj = grd_shp.to_crs(5071)"
   ]
  },
  {
   "cell_type": "code",
   "execution_count": 72,
   "metadata": {},
   "outputs": [
    {
     "data": {
      "text/html": [
       "<div>\n",
       "<style scoped>\n",
       "    .dataframe tbody tr th:only-of-type {\n",
       "        vertical-align: middle;\n",
       "    }\n",
       "\n",
       "    .dataframe tbody tr th {\n",
       "        vertical-align: top;\n",
       "    }\n",
       "\n",
       "    .dataframe thead th {\n",
       "        text-align: right;\n",
       "    }\n",
       "</style>\n",
       "<table border=\"1\" class=\"dataframe\">\n",
       "  <thead>\n",
       "    <tr style=\"text-align: right;\">\n",
       "      <th></th>\n",
       "      <th>req_idx</th>\n",
       "      <th>catchmentID</th>\n",
       "      <th>geometry</th>\n",
       "      <th>Area_sqKm</th>\n",
       "      <th>name</th>\n",
       "      <th>direction</th>\n",
       "      <th>upstream</th>\n",
       "      <th>gnis_name</th>\n",
       "      <th>comid</th>\n",
       "      <th>reachcode</th>\n",
       "      <th>intersection_point</th>\n",
       "    </tr>\n",
       "  </thead>\n",
       "  <tbody>\n",
       "    <tr>\n",
       "      <th>0</th>\n",
       "      <td>1</td>\n",
       "      <td>NaN</td>\n",
       "      <td>POLYGON ((-1396543.179 2777343.302, -1396514.1...</td>\n",
       "      <td>28.323318</td>\n",
       "      <td>Bear_Creek_Catchment</td>\n",
       "      <td>up</td>\n",
       "      <td>True</td>\n",
       "      <td>Bear Creek</td>\n",
       "      <td>24321310</td>\n",
       "      <td>17010205001011</td>\n",
       "      <td>[-114.32441916837779, 46.76677542470867]</td>\n",
       "    </tr>\n",
       "    <tr>\n",
       "      <th>1</th>\n",
       "      <td>0</td>\n",
       "      <td>NaN</td>\n",
       "      <td>POLYGON ((-1383570.819 2769750.75, -1383869.98...</td>\n",
       "      <td>653.521298</td>\n",
       "      <td>Lolo_Catchment</td>\n",
       "      <td>up</td>\n",
       "      <td>True</td>\n",
       "      <td>Lolo Creek</td>\n",
       "      <td>24319270</td>\n",
       "      <td>17010205000088</td>\n",
       "      <td>[-114.12978466856701, 46.7476919565746]</td>\n",
       "    </tr>\n",
       "  </tbody>\n",
       "</table>\n",
       "</div>"
      ],
      "text/plain": [
       "   req_idx catchmentID                                           geometry  \\\n",
       "0        1         NaN  POLYGON ((-1396543.179 2777343.302, -1396514.1...   \n",
       "1        0         NaN  POLYGON ((-1383570.819 2769750.75, -1383869.98...   \n",
       "\n",
       "    Area_sqKm                  name direction  upstream   gnis_name     comid  \\\n",
       "0   28.323318  Bear_Creek_Catchment        up      True  Bear Creek  24321310   \n",
       "1  653.521298        Lolo_Catchment        up      True  Lolo Creek  24319270   \n",
       "\n",
       "        reachcode                        intersection_point  \n",
       "0  17010205001011  [-114.32441916837779, 46.76677542470867]  \n",
       "1  17010205000088   [-114.12978466856701, 46.7476919565746]  "
      ]
     },
     "execution_count": 72,
     "metadata": {},
     "output_type": "execute_result"
    }
   ],
   "source": [
    "r_proj"
   ]
  },
  {
   "cell_type": "code",
   "execution_count": 75,
   "metadata": {},
   "outputs": [],
   "source": [
    "geom_id_col = 'name'\n",
    "in_geom = r_proj\n",
    "intersection_geoms = []\n",
    "in_shape_id = []\n",
    "grid_cell_id = []\n",
    "for i, g1 in enumerate(in_geom.geometry.values):\n",
    "    for j, g2 in enumerate(grd_proj.geometry.values):\n",
    "        if g1.intersects(g2):\n",
    "            igeom = g1.intersection(g2)\n",
    "            intersection_geoms.append(igeom)\n",
    "            if geom_id_col is None:\n",
    "                in_shape_id.append(i)\n",
    "            elif geom_id_col in in_geom.columns.to_list():\n",
    "                in_shape_id.append(in_geom[geom_id_col].iloc[i])\n",
    "            else:\n",
    "                raise ValueError(\"Argument for geom_id_col not found in input geometry columns.\")\n",
    "            grid_cell_id.append(j)\n",
    "\n",
    "s_areas = gpd.GeoDataFrame(\n",
    "    geometry=intersection_geoms,\n",
    "    crs=5071,\n",
    "    index=grid_cell_id\n",
    ")"
   ]
  },
  {
   "cell_type": "code",
   "execution_count": 79,
   "metadata": {},
   "outputs": [
    {
     "data": {
      "text/plain": [
       "['Bear_Creek_Catchment', 'Lolo_Catchment']"
      ]
     },
     "execution_count": 79,
     "metadata": {},
     "output_type": "execute_result"
    }
   ],
   "source": [
    "r_proj['name'].to_list()"
   ]
  },
  {
   "cell_type": "code",
   "execution_count": 65,
   "metadata": {},
   "outputs": [
    {
     "data": {
      "text/plain": [
       "[3103,\n",
       " 3104,\n",
       " 3188,\n",
       " 3189,\n",
       " 3190,\n",
       " 3273,\n",
       " 3274,\n",
       " 3101,\n",
       " 3102,\n",
       " 3103,\n",
       " 3104,\n",
       " 3183,\n",
       " 3184,\n",
       " 3185,\n",
       " 3186,\n",
       " 3187,\n",
       " 3188,\n",
       " 3189,\n",
       " 3190,\n",
       " 3191,\n",
       " 3192,\n",
       " 3267,\n",
       " 3268,\n",
       " 3269,\n",
       " 3270,\n",
       " 3271,\n",
       " 3272,\n",
       " 3273,\n",
       " 3274,\n",
       " 3275,\n",
       " 3276,\n",
       " 3277,\n",
       " 3278,\n",
       " 3351,\n",
       " 3352,\n",
       " 3353,\n",
       " 3354,\n",
       " 3355,\n",
       " 3356,\n",
       " 3357,\n",
       " 3358,\n",
       " 3359,\n",
       " 3360,\n",
       " 3361,\n",
       " 3362,\n",
       " 3363,\n",
       " 3436,\n",
       " 3437,\n",
       " 3438,\n",
       " 3439,\n",
       " 3440,\n",
       " 3441,\n",
       " 3442,\n",
       " 3443,\n",
       " 3444,\n",
       " 3445,\n",
       " 3446,\n",
       " 3447,\n",
       " 3521,\n",
       " 3522,\n",
       " 3523,\n",
       " 3524,\n",
       " 3525,\n",
       " 3526,\n",
       " 3527,\n",
       " 3528,\n",
       " 3529,\n",
       " 3530,\n",
       " 3613,\n",
       " 3614,\n",
       " 3615,\n",
       " 3698,\n",
       " 3699]"
      ]
     },
     "execution_count": 65,
     "metadata": {},
     "output_type": "execute_result"
    }
   ],
   "source": [
    "intersecting_shape_id"
   ]
  },
  {
   "cell_type": "code",
   "execution_count": 50,
   "metadata": {},
   "outputs": [],
   "source": [
    "r_proj = result.to_crs(5071)\n",
    "grd_proj = grd_shp.to_crs(5071)"
   ]
  },
  {
   "cell_type": "code",
   "execution_count": 57,
   "metadata": {},
   "outputs": [],
   "source": [
    "sj1 = r_proj.sjoin(grd_proj, how='left')\n",
    "sj2 = grd_proj.sjoin(r_proj, how='right')"
   ]
  },
  {
   "cell_type": "code",
   "execution_count": 71,
   "metadata": {},
   "outputs": [
    {
     "data": {
      "text/plain": [
       "np.int64(1)"
      ]
     },
     "execution_count": 71,
     "metadata": {},
     "output_type": "execute_result"
    }
   ],
   "source": [
    "sj2['req_idx'].iloc[1]"
   ]
  },
  {
   "cell_type": "code",
   "execution_count": 46,
   "metadata": {},
   "outputs": [
    {
     "data": {
      "text/plain": [
       "0       None\n",
       "1       None\n",
       "2       None\n",
       "3       None\n",
       "4       None\n",
       "        ... \n",
       "6795    None\n",
       "6796    None\n",
       "6797    None\n",
       "6798    None\n",
       "6799    None\n",
       "Length: 6821, dtype: geometry"
      ]
     },
     "execution_count": 46,
     "metadata": {},
     "output_type": "execute_result"
    }
   ],
   "source": [
    "sj2.intersection(sj1, align=True)"
   ]
  },
  {
   "cell_type": "code",
   "execution_count": null,
   "metadata": {},
   "outputs": [
    {
     "data": {
      "text/plain": [
       "<Axes: >"
      ]
     },
     "execution_count": 44,
     "metadata": {},
     "output_type": "execute_result"
    },
    {
     "data": {
      "image/png": "[encoded data removed]",
      "text/plain": [
       "<Figure size 640x480 with 1 Axes>"
      ]
     },
     "metadata": {},
     "output_type": "display_data"
    }
   ],
   "source": []
  },
  {
   "cell_type": "code",
   "execution_count": 11,
   "metadata": {},
   "outputs": [],
   "source": [
    "pour_pnt['direction'] = ['up'] * pour_pnt.shape[0]\n",
    "pour_pnt['upstream'] = [True] * pour_pnt.shape[0]"
   ]
  },
  {
   "cell_type": "code",
   "execution_count": 12,
   "metadata": {},
   "outputs": [
    {
     "data": {
      "text/html": [
       "<div>\n",
       "<style scoped>\n",
       "    .dataframe tbody tr th:only-of-type {\n",
       "        vertical-align: middle;\n",
       "    }\n",
       "\n",
       "    .dataframe tbody tr th {\n",
       "        vertical-align: top;\n",
       "    }\n",
       "\n",
       "    .dataframe thead th {\n",
       "        text-align: right;\n",
       "    }\n",
       "</style>\n",
       "<table border=\"1\" class=\"dataframe\">\n",
       "  <thead>\n",
       "    <tr style=\"text-align: right;\">\n",
       "      <th></th>\n",
       "      <th>name</th>\n",
       "      <th>geometry</th>\n",
       "      <th>direction</th>\n",
       "      <th>upstream</th>\n",
       "    </tr>\n",
       "  </thead>\n",
       "  <tbody>\n",
       "    <tr>\n",
       "      <th>0</th>\n",
       "      <td>Lolo_Catchment</td>\n",
       "      <td>POINT (-114.13317 46.74881)</td>\n",
       "      <td>up</td>\n",
       "      <td>True</td>\n",
       "    </tr>\n",
       "    <tr>\n",
       "      <th>1</th>\n",
       "      <td>Bear_Creek_Catchment</td>\n",
       "      <td>POINT (-114.32404 46.76696)</td>\n",
       "      <td>up</td>\n",
       "      <td>True</td>\n",
       "    </tr>\n",
       "  </tbody>\n",
       "</table>\n",
       "</div>"
      ],
      "text/plain": [
       "                   name                     geometry direction  upstream\n",
       "0        Lolo_Catchment  POINT (-114.13317 46.74881)        up      True\n",
       "1  Bear_Creek_Catchment  POINT (-114.32404 46.76696)        up      True"
      ]
     },
     "execution_count": 12,
     "metadata": {},
     "output_type": "execute_result"
    }
   ],
   "source": [
    "pour_pnt"
   ]
  },
  {
   "cell_type": "code",
   "execution_count": 13,
   "metadata": {},
   "outputs": [],
   "source": [
    "trace = pynhd.pygeoapi(pour_pnt, \"flow_trace\")"
   ]
  },
  {
   "cell_type": "code",
   "execution_count": 14,
   "metadata": {},
   "outputs": [
    {
     "data": {
      "text/html": [
       "<div>\n",
       "<style scoped>\n",
       "    .dataframe tbody tr th:only-of-type {\n",
       "        vertical-align: middle;\n",
       "    }\n",
       "\n",
       "    .dataframe tbody tr th {\n",
       "        vertical-align: top;\n",
       "    }\n",
       "\n",
       "    .dataframe thead th {\n",
       "        text-align: right;\n",
       "    }\n",
       "</style>\n",
       "<table border=\"1\" class=\"dataframe\">\n",
       "  <thead>\n",
       "    <tr style=\"text-align: right;\">\n",
       "      <th></th>\n",
       "      <th>req_idx</th>\n",
       "      <th>geometry</th>\n",
       "      <th>gnis_name</th>\n",
       "      <th>comid</th>\n",
       "      <th>intersection_point</th>\n",
       "      <th>reachcode</th>\n",
       "      <th>raindrop_pathDist</th>\n",
       "      <th>measure</th>\n",
       "      <th>raindrop_path</th>\n",
       "    </tr>\n",
       "  </thead>\n",
       "  <tbody>\n",
       "    <tr>\n",
       "      <th>0</th>\n",
       "      <td>0</td>\n",
       "      <td>LINESTRING (-114.13527 46.74652, -114.13467 46...</td>\n",
       "      <td>Lolo Creek</td>\n",
       "      <td>24319270</td>\n",
       "      <td>[-114.12978466856701, 46.7476919565746]</td>\n",
       "      <td>17010205000088</td>\n",
       "      <td>351.63</td>\n",
       "      <td>74.91</td>\n",
       "      <td>LINESTRING (-114.1333 46.74888, -114.13292 46....</td>\n",
       "    </tr>\n",
       "    <tr>\n",
       "      <th>1</th>\n",
       "      <td>1</td>\n",
       "      <td>LINESTRING (-114.31475 46.80174, -114.31465 46...</td>\n",
       "      <td>Bear Creek</td>\n",
       "      <td>24321310</td>\n",
       "      <td>[-114.32441916837779, 46.76677542470867]</td>\n",
       "      <td>17010205001011</td>\n",
       "      <td>NaN</td>\n",
       "      <td>10.96</td>\n",
       "      <td>None</td>\n",
       "    </tr>\n",
       "  </tbody>\n",
       "</table>\n",
       "</div>"
      ],
      "text/plain": [
       "   req_idx                                           geometry   gnis_name  \\\n",
       "0        0  LINESTRING (-114.13527 46.74652, -114.13467 46...  Lolo Creek   \n",
       "1        1  LINESTRING (-114.31475 46.80174, -114.31465 46...  Bear Creek   \n",
       "\n",
       "      comid                        intersection_point       reachcode  \\\n",
       "0  24319270   [-114.12978466856701, 46.7476919565746]  17010205000088   \n",
       "1  24321310  [-114.32441916837779, 46.76677542470867]  17010205001011   \n",
       "\n",
       "   raindrop_pathDist  measure  \\\n",
       "0             351.63    74.91   \n",
       "1                NaN    10.96   \n",
       "\n",
       "                                       raindrop_path  \n",
       "0  LINESTRING (-114.1333 46.74888, -114.13292 46....  \n",
       "1                                               None  "
      ]
     },
     "execution_count": 14,
     "metadata": {},
     "output_type": "execute_result"
    }
   ],
   "source": [
    "trace\n"
   ]
  },
  {
   "cell_type": "code",
   "execution_count": 20,
   "metadata": {},
   "outputs": [
    {
     "data": {
      "text/html": [
       "<div>\n",
       "<style scoped>\n",
       "    .dataframe tbody tr th:only-of-type {\n",
       "        vertical-align: middle;\n",
       "    }\n",
       "\n",
       "    .dataframe tbody tr th {\n",
       "        vertical-align: top;\n",
       "    }\n",
       "\n",
       "    .dataframe thead th {\n",
       "        text-align: right;\n",
       "    }\n",
       "</style>\n",
       "<table border=\"1\" class=\"dataframe\">\n",
       "  <thead>\n",
       "    <tr style=\"text-align: right;\">\n",
       "      <th></th>\n",
       "      <th>name</th>\n",
       "      <th>geometry</th>\n",
       "      <th>direction</th>\n",
       "      <th>upstream</th>\n",
       "      <th>req_idx</th>\n",
       "    </tr>\n",
       "  </thead>\n",
       "  <tbody>\n",
       "    <tr>\n",
       "      <th>0</th>\n",
       "      <td>Lolo_Catchment</td>\n",
       "      <td>POINT (-114.12978 46.74769)</td>\n",
       "      <td>up</td>\n",
       "      <td>True</td>\n",
       "      <td>0</td>\n",
       "    </tr>\n",
       "    <tr>\n",
       "      <th>1</th>\n",
       "      <td>Bear_Creek_Catchment</td>\n",
       "      <td>POINT (-114.32442 46.76678)</td>\n",
       "      <td>up</td>\n",
       "      <td>True</td>\n",
       "      <td>1</td>\n",
       "    </tr>\n",
       "  </tbody>\n",
       "</table>\n",
       "</div>"
      ],
      "text/plain": [
       "                   name                     geometry direction  upstream  \\\n",
       "0        Lolo_Catchment  POINT (-114.12978 46.74769)        up      True   \n",
       "1  Bear_Creek_Catchment  POINT (-114.32442 46.76678)        up      True   \n",
       "\n",
       "   req_idx  \n",
       "0        0  \n",
       "1        1  "
      ]
     },
     "execution_count": 20,
     "metadata": {},
     "output_type": "execute_result"
    }
   ],
   "source": [
    "new_pour_pnts = pour_pnt\n",
    "new_pour_pnts.geometry = [Point(x) for x in trace['intersection_point']]\n",
    "new_pour_pnts['req_idx'] = new_pour_pnts.index\n",
    "new_pour_pnts"
   ]
  },
  {
   "cell_type": "code",
   "execution_count": 41,
   "metadata": {},
   "outputs": [
    {
     "data": {
      "text/html": [
       "<div>\n",
       "<style scoped>\n",
       "    .dataframe tbody tr th:only-of-type {\n",
       "        vertical-align: middle;\n",
       "    }\n",
       "\n",
       "    .dataframe tbody tr th {\n",
       "        vertical-align: top;\n",
       "    }\n",
       "\n",
       "    .dataframe thead th {\n",
       "        text-align: right;\n",
       "    }\n",
       "</style>\n",
       "<table border=\"1\" class=\"dataframe\">\n",
       "  <thead>\n",
       "    <tr style=\"text-align: right;\">\n",
       "      <th></th>\n",
       "      <th>name</th>\n",
       "      <th>direction</th>\n",
       "      <th>upstream</th>\n",
       "      <th>req_idx</th>\n",
       "    </tr>\n",
       "  </thead>\n",
       "  <tbody>\n",
       "    <tr>\n",
       "      <th>0</th>\n",
       "      <td>Lolo_Catchment</td>\n",
       "      <td>up</td>\n",
       "      <td>True</td>\n",
       "      <td>0</td>\n",
       "    </tr>\n",
       "    <tr>\n",
       "      <th>1</th>\n",
       "      <td>Bear_Creek_Catchment</td>\n",
       "      <td>up</td>\n",
       "      <td>True</td>\n",
       "      <td>1</td>\n",
       "    </tr>\n",
       "  </tbody>\n",
       "</table>\n",
       "</div>"
      ],
      "text/plain": [
       "                   name direction  upstream  req_idx\n",
       "0        Lolo_Catchment        up      True        0\n",
       "1  Bear_Creek_Catchment        up      True        1"
      ]
     },
     "execution_count": 41,
     "metadata": {},
     "output_type": "execute_result"
    }
   ],
   "source": [
    "new_pour_pnts[new_pour_pnts.columns[new_pour_pnts.columns != 'geometry']]"
   ]
  },
  {
   "cell_type": "code",
   "execution_count": 22,
   "metadata": {},
   "outputs": [
    {
     "data": {
      "text/html": [
       "<div>\n",
       "<style scoped>\n",
       "    .dataframe tbody tr th:only-of-type {\n",
       "        vertical-align: middle;\n",
       "    }\n",
       "\n",
       "    .dataframe tbody tr th {\n",
       "        vertical-align: top;\n",
       "    }\n",
       "\n",
       "    .dataframe thead th {\n",
       "        text-align: right;\n",
       "    }\n",
       "</style>\n",
       "<table border=\"1\" class=\"dataframe\">\n",
       "  <thead>\n",
       "    <tr style=\"text-align: right;\">\n",
       "      <th></th>\n",
       "      <th>name</th>\n",
       "      <th>geometry</th>\n",
       "      <th>direction</th>\n",
       "      <th>upstream</th>\n",
       "      <th>req_idx</th>\n",
       "      <th>gnis_name</th>\n",
       "      <th>comid</th>\n",
       "      <th>reachcode</th>\n",
       "    </tr>\n",
       "  </thead>\n",
       "  <tbody>\n",
       "    <tr>\n",
       "      <th>0</th>\n",
       "      <td>Lolo_Catchment</td>\n",
       "      <td>POINT (-114.12978 46.74769)</td>\n",
       "      <td>up</td>\n",
       "      <td>True</td>\n",
       "      <td>0</td>\n",
       "      <td>Lolo Creek</td>\n",
       "      <td>24319270</td>\n",
       "      <td>17010205000088</td>\n",
       "    </tr>\n",
       "    <tr>\n",
       "      <th>1</th>\n",
       "      <td>Bear_Creek_Catchment</td>\n",
       "      <td>POINT (-114.32442 46.76678)</td>\n",
       "      <td>up</td>\n",
       "      <td>True</td>\n",
       "      <td>1</td>\n",
       "      <td>Bear Creek</td>\n",
       "      <td>24321310</td>\n",
       "      <td>17010205001011</td>\n",
       "    </tr>\n",
       "  </tbody>\n",
       "</table>\n",
       "</div>"
      ],
      "text/plain": [
       "                   name                     geometry direction  upstream  \\\n",
       "0        Lolo_Catchment  POINT (-114.12978 46.74769)        up      True   \n",
       "1  Bear_Creek_Catchment  POINT (-114.32442 46.76678)        up      True   \n",
       "\n",
       "   req_idx   gnis_name     comid       reachcode  \n",
       "0        0  Lolo Creek  24319270  17010205000088  \n",
       "1        1  Bear Creek  24321310  17010205001011  "
      ]
     },
     "execution_count": 22,
     "metadata": {},
     "output_type": "execute_result"
    }
   ],
   "source": [
    "new_pour_pnts.merge(trace[['req_idx', 'gnis_name', 'comid', 'reachcode']], on='req_idx')"
   ]
  },
  {
   "cell_type": "code",
   "execution_count": 50,
   "metadata": {},
   "outputs": [],
   "source": [
    "cats = pynhd.pygeoapi(new_pour_pnts, \"split_catchment\")"
   ]
  },
  {
   "cell_type": "code",
   "execution_count": 53,
   "metadata": {},
   "outputs": [
    {
     "data": {
      "text/html": [
       "<div>\n",
       "<style scoped>\n",
       "    .dataframe tbody tr th:only-of-type {\n",
       "        vertical-align: middle;\n",
       "    }\n",
       "\n",
       "    .dataframe tbody tr th {\n",
       "        vertical-align: top;\n",
       "    }\n",
       "\n",
       "    .dataframe thead th {\n",
       "        text-align: right;\n",
       "    }\n",
       "</style>\n",
       "<table border=\"1\" class=\"dataframe\">\n",
       "  <thead>\n",
       "    <tr style=\"text-align: right;\">\n",
       "      <th></th>\n",
       "      <th>req_idx</th>\n",
       "      <th>catchmentID</th>\n",
       "      <th>geometry</th>\n",
       "    </tr>\n",
       "  </thead>\n",
       "  <tbody>\n",
       "    <tr>\n",
       "      <th>0</th>\n",
       "      <td>0</td>\n",
       "      <td>24319270</td>\n",
       "      <td>POLYGON ((-114.14072 46.72623, -114.14065 46.7...</td>\n",
       "    </tr>\n",
       "    <tr>\n",
       "      <th>0</th>\n",
       "      <td>0</td>\n",
       "      <td>24319270</td>\n",
       "      <td>POLYGON ((-114.14072 46.72623, -114.13939 46.7...</td>\n",
       "    </tr>\n",
       "    <tr>\n",
       "      <th>1</th>\n",
       "      <td>0</td>\n",
       "      <td>NaN</td>\n",
       "      <td>POLYGON ((-114.14065 46.72596, -114.14104 46.7...</td>\n",
       "    </tr>\n",
       "    <tr>\n",
       "      <th>1</th>\n",
       "      <td>0</td>\n",
       "      <td>NaN</td>\n",
       "      <td>POLYGON ((-114.11652 46.75512, -114.11643 46.7...</td>\n",
       "    </tr>\n",
       "    <tr>\n",
       "      <th>1</th>\n",
       "      <td>0</td>\n",
       "      <td>NaN</td>\n",
       "      <td>POLYGON ((-114.11538 46.75389, -114.11506 46.7...</td>\n",
       "    </tr>\n",
       "    <tr>\n",
       "      <th>1</th>\n",
       "      <td>0</td>\n",
       "      <td>NaN</td>\n",
       "      <td>POLYGON ((-114.13341 46.72822, -114.13429 46.7...</td>\n",
       "    </tr>\n",
       "    <tr>\n",
       "      <th>2</th>\n",
       "      <td>1</td>\n",
       "      <td>24321310</td>\n",
       "      <td>POLYGON ((-114.32851 46.7636, -114.32915 46.76...</td>\n",
       "    </tr>\n",
       "    <tr>\n",
       "      <th>3</th>\n",
       "      <td>1</td>\n",
       "      <td>NaN</td>\n",
       "      <td>POLYGON ((-114.32894 46.76426, -114.32823 46.7...</td>\n",
       "    </tr>\n",
       "    <tr>\n",
       "      <th>3</th>\n",
       "      <td>1</td>\n",
       "      <td>NaN</td>\n",
       "      <td>POLYGON ((-114.3272 46.7703, -114.327 46.77098...</td>\n",
       "    </tr>\n",
       "  </tbody>\n",
       "</table>\n",
       "</div>"
      ],
      "text/plain": [
       "   req_idx catchmentID                                           geometry\n",
       "0        0    24319270  POLYGON ((-114.14072 46.72623, -114.14065 46.7...\n",
       "0        0    24319270  POLYGON ((-114.14072 46.72623, -114.13939 46.7...\n",
       "1        0         NaN  POLYGON ((-114.14065 46.72596, -114.14104 46.7...\n",
       "1        0         NaN  POLYGON ((-114.11652 46.75512, -114.11643 46.7...\n",
       "1        0         NaN  POLYGON ((-114.11538 46.75389, -114.11506 46.7...\n",
       "1        0         NaN  POLYGON ((-114.13341 46.72822, -114.13429 46.7...\n",
       "2        1    24321310  POLYGON ((-114.32851 46.7636, -114.32915 46.76...\n",
       "3        1         NaN  POLYGON ((-114.32894 46.76426, -114.32823 46.7...\n",
       "3        1         NaN  POLYGON ((-114.3272 46.7703, -114.327 46.77098..."
      ]
     },
     "execution_count": 53,
     "metadata": {},
     "output_type": "execute_result"
    }
   ],
   "source": [
    "cats.explode()"
   ]
  },
  {
   "cell_type": "markdown",
   "metadata": {},
   "source": []
  },
  {
   "cell_type": "code",
   "execution_count": 54,
   "metadata": {},
   "outputs": [
    {
     "data": {
      "text/html": [
       "<div>\n",
       "<style scoped>\n",
       "    .dataframe tbody tr th:only-of-type {\n",
       "        vertical-align: middle;\n",
       "    }\n",
       "\n",
       "    .dataframe tbody tr th {\n",
       "        vertical-align: top;\n",
       "    }\n",
       "\n",
       "    .dataframe thead th {\n",
       "        text-align: right;\n",
       "    }\n",
       "</style>\n",
       "<table border=\"1\" class=\"dataframe\">\n",
       "  <thead>\n",
       "    <tr style=\"text-align: right;\">\n",
       "      <th></th>\n",
       "      <th>req_idx</th>\n",
       "      <th>catchmentID</th>\n",
       "      <th>geometry</th>\n",
       "      <th>Area_sqKm</th>\n",
       "    </tr>\n",
       "  </thead>\n",
       "  <tbody>\n",
       "    <tr>\n",
       "      <th>0</th>\n",
       "      <td>1</td>\n",
       "      <td>NaN</td>\n",
       "      <td>POLYGON ((-114.3272 46.7703, -114.327 46.77098...</td>\n",
       "      <td>28.323318</td>\n",
       "    </tr>\n",
       "    <tr>\n",
       "      <th>1</th>\n",
       "      <td>0</td>\n",
       "      <td>NaN</td>\n",
       "      <td>POLYGON ((-114.14065 46.72596, -114.14104 46.7...</td>\n",
       "      <td>653.521298</td>\n",
       "    </tr>\n",
       "  </tbody>\n",
       "</table>\n",
       "</div>"
      ],
      "text/plain": [
       "   req_idx catchmentID                                           geometry  \\\n",
       "0        1         NaN  POLYGON ((-114.3272 46.7703, -114.327 46.77098...   \n",
       "1        0         NaN  POLYGON ((-114.14065 46.72596, -114.14104 46.7...   \n",
       "\n",
       "    Area_sqKm  \n",
       "0   28.323318  \n",
       "1  653.521298  "
      ]
     },
     "execution_count": 54,
     "metadata": {},
     "output_type": "execute_result"
    }
   ],
   "source": [
    "cats = cats.explode()\n",
    "cats['Area_sqKm'] = cats.to_crs('5071').area / (1000**2)\n",
    "cats.sort_values(by='Area_sqKm', inplace=True)\n",
    "cats.drop_duplicates(subset='req_idx', keep='last', inplace=True)\n",
    "cats.reset_index(drop=True, inplace=True)\n",
    "cats"
   ]
  },
  {
   "cell_type": "code",
   "execution_count": 68,
   "metadata": {},
   "outputs": [
    {
     "data": {
      "text/plain": [
       "np.False_"
      ]
     },
     "execution_count": 68,
     "metadata": {},
     "output_type": "execute_result"
    }
   ],
   "source": [
    "(cats.geom_type == 'Polygon').all()"
   ]
  },
  {
   "cell_type": "code",
   "execution_count": 35,
   "metadata": {},
   "outputs": [],
   "source": [
    "nldi = pynhd.NLDI()"
   ]
  },
  {
   "cell_type": "code",
   "execution_count": 50,
   "metadata": {},
   "outputs": [],
   "source": [
    "basin_nosplit = nldi.get_basins(trace['comid'].to_list(), fsource='comid')\n",
    "#basin_split = nldi.get_basins([trace['comid'].loc[1]], fsource='comid', split_catchment=True)"
   ]
  },
  {
   "cell_type": "code",
   "execution_count": 56,
   "metadata": {},
   "outputs": [
    {
     "data": {
      "text/plain": [
       "<Axes: >"
      ]
     },
     "execution_count": 56,
     "metadata": {},
     "output_type": "execute_result"
    },
    {
     "data": {
      "image/png": "[encoded data removed]",
      "text/plain": [
       "<Figure size 640x480 with 1 Axes>"
      ]
     },
     "metadata": {},
     "output_type": "display_data"
    }
   ],
   "source": [
    "ax = plt.axes()\n",
    "basin_nosplit.plot(ax=ax)\n",
    "#basin_split.boundary.plot(ax=ax)\n"
   ]
  },
  {
   "cell_type": "code",
   "execution_count": 23,
   "metadata": {},
   "outputs": [],
   "source": [
    "cats = pynhd.pygeoapi(pour_pnt, \"split_catchment\")"
   ]
  },
  {
   "cell_type": "code",
   "execution_count": 30,
   "metadata": {},
   "outputs": [
    {
     "data": {
      "image/svg+xml": [
       "<svg xmlns=\"http://www.w3.org/2000/svg\" xmlns:xlink=\"http://www.w3.org/1999/xlink\" width=\"100.0\" height=\"100.0\" viewBox=\"-114.3587168 46.759920199999996 0.08287559999999417 0.09514260000000974\" preserveAspectRatio=\"xMinYMin meet\"><g transform=\"matrix(1,0,0,-1,0,93.614983)\"><g><path fill-rule=\"evenodd\" fill=\"#66cc99\" stroke=\"#555555\" stroke-width=\"0.0019028520000001947\" opacity=\"0.6\" d=\"M -114.328943,46.76426 L -114.328231,46.763444 L -114.32824,46.763444 L -114.328507,46.763601 L -114.328943,46.76426 z\" /><path fill-rule=\"evenodd\" fill=\"#66cc99\" stroke=\"#555555\" stroke-width=\"0.0019028520000001947\" opacity=\"0.6\" d=\"M -114.327195,46.770303 L -114.327,46.770981 L -114.326875,46.771154 L -114.325137,46.771663 L -114.325997,46.773347 L -114.326055,46.774697 L -114.325978,46.775235 L -114.325031,46.776067 L -114.324673,46.777516 L -114.324244,46.778934 L -114.323992,46.781331 L -114.323458,46.7818 L -114.322671,46.782755 L -114.322708,46.784768 L -114.322167,46.785911 L -114.322667,46.787149 L -114.323751,46.788385 L -114.324336,46.789155 L -114.325839,46.790385 L -114.327151,46.793381 L -114.328734,46.794424 L -114.330311,46.794676 L -114.333885,46.796145 L -114.33497,46.796402 L -114.335191,46.79766 L -114.335036,46.79805 L -114.335776,46.798318 L -114.336627,46.798816 L -114.337724,46.799214 L -114.340037,46.800751 L -114.343015,46.80151 L -114.344776,46.802147 L -114.346722,46.80415 L -114.347737,46.80489 L -114.348609,46.805919 L -114.347599,46.807529 L -114.346244,46.808813 L -114.346099,46.808976 L -114.347045,46.809032 L -114.350016,46.810773 L -114.351836,46.812341 L -114.351784,46.814051 L -114.352359,46.817664 L -114.351908,46.821495 L -114.351927,46.822543 L -114.351881,46.823214 L -114.35226,46.825714 L -114.353054,46.826532 L -114.353607,46.827336 L -114.355193,46.828451 L -114.35488,46.829229 L -114.353567,46.830697 L -114.352863,46.832446 L -114.352161,46.832824 L -114.351863,46.833595 L -114.352395,46.834082 L -114.35208,46.834854 L -114.35185,46.834978 L -114.351554,46.835994 L -114.351121,46.83691 L -114.349451,46.839177 L -114.349324,46.842074 L -114.349355,46.843746 L -114.349161,46.84458 L -114.349488,46.847041 L -114.349466,46.847724 L -114.349038,46.848074 L -114.34809,46.849855 L -114.346062,46.851133 L -114.345755,46.851539 L -114.344064,46.851081 L -114.341582,46.850722 L -114.336156,46.8492 L -114.333553,46.849323 L -114.33055,46.849509 L -114.328982,46.848864 L -114.324987,46.846202 L -114.321918,46.846329 L -114.317781,46.844796 L -114.313887,46.842753 L -114.311698,46.842956 L -114.308467,46.843819 L -114.305093,46.843227 L -114.303774,46.839533 L -114.304177,46.838434 L -114.305764,46.836378 L -114.306144,46.835632 L -114.305631,46.834443 L -114.304625,46.833076 L -114.302536,46.832797 L -114.300714,46.831646 L -114.299174,46.830102 L -114.298888,46.829709 L -114.298355,46.829418 L -114.296984,46.829265 L -114.294072,46.829391 L -114.292306,46.82824 L -114.29054,46.827181 L -114.288266,46.825501 L -114.286977,46.824797 L -114.28369,46.823498 L -114.28043,46.821373 L -114.279365,46.821299 L -114.27971,46.82088 L -114.281732,46.819572 L -114.282398,46.818555 L -114.282447,46.817423 L -114.28388,46.815318 L -114.284542,46.814126 L -114.289886,46.809451 L -114.29185,46.806791 L -114.292217,46.805689 L -114.293791,46.803769 L -114.294549,46.802403 L -114.297967,46.800404 L -114.300025,46.799404 L -114.301703,46.797988 L -114.302643,46.797733 L -114.304033,46.795567 L -114.302954,46.794313 L -114.302999,46.792586 L -114.302788,46.790134 L -114.304063,46.78865 L -114.305636,46.787617 L -114.304377,46.786154 L -114.30416,46.783888 L -114.305195,46.782062 L -114.306305,46.780328 L -114.30637,46.779066 L -114.30686,46.777988 L -114.306973,46.775823 L -114.308458,46.774095 L -114.310142,46.773131 L -114.312156,46.772507 L -114.312474,46.770458 L -114.313954,46.769286 L -114.315512,46.768708 L -114.315957,46.767436 L -114.31779,46.765763 L -114.318214,46.765268 L -114.31993,46.764913 L -114.32307,46.764162 L -114.323199,46.764156 L -114.320459,46.7649 L -114.320603,46.765225 L -114.323832,46.766731 L -114.324541,46.766667 L -114.325459,46.767094 L -114.325636,46.767568 L -114.326452,46.767788 L -114.326826,46.768565 L -114.327209,46.76846 L -114.327195,46.770303 z\" /></g></g></svg>"
      ],
      "text/plain": [
       "<MULTIPOLYGON (((-114.329 46.764, -114.328 46.763, -114.328 46.763, -114.329...>"
      ]
     },
     "execution_count": 30,
     "metadata": {},
     "output_type": "execute_result"
    }
   ],
   "source": [
    "cats.loc[3].geometry"
   ]
  }
 ],
 "metadata": {
  "kernelspec": {
   "display_name": "wmbflow",
   "language": "python",
   "name": "python3"
  },
  "language_info": {
   "codemirror_mode": {
    "name": "ipython",
    "version": 3
   },
   "file_extension": ".py",
   "mimetype": "text/x-python",
   "name": "python",
   "nbconvert_exporter": "python",
   "pygments_lexer": "ipython3",
   "version": "3.9.20"
  }
 },
 "nbformat": 4,
 "nbformat_minor": 2
}
